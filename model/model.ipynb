{
 "cells": [
  {
   "cell_type": "code",
   "execution_count": 1,
   "id": "983dc564",
   "metadata": {},
   "outputs": [],
   "source": [
    "import torch\n",
    "import torch.nn as nn\n",
    "import torchvision.models as models\n",
    "import torchvision.transforms as transforms\n",
    "from PIL import Image\n",
    "import pandas as pd\n",
    "import os "
   ]
  },
  {
   "cell_type": "code",
   "execution_count": null,
   "id": "e21f4cc6",
   "metadata": {},
   "outputs": [],
   "source": [
    "from torch.utils.data import Dataset\n",
    "\n",
    "class WaterAccessDataset(Dataset):\n",
    "\n",
    "    # constructor\n",
    "    def __init__(self, csv_path, image_dir, transform=None):\n",
    "        self.data = pd.read_csv(csv_path)\n",
    "        self.image_dir = image_dir\n",
    "        self.transform = transform\n",
    "\n",
    "    # len(dataset)\n",
    "    def __len__(self):\n",
    "        return len(self.data)\n",
    "\n",
    "    def __getitem__(self, index):\n",
    "        \n",
    "        # get single row in dataframe and convert score to tensor\n",
    "        row = self.data.iloc[index]\n",
    "        tile_id = row['tile_id']\n",
    "        label = torch.tensor(row['score'], dtype=torch.float32)\n",
    "\n",
    "        # load and process image !!! fix later !!!\n",
    "        img_path = os.path.join(self.image_dir, f\"{tile_id}.png\")\n",
    "        image = Image.open(img_path).convert(\"RGB\")\n",
    "        if self.transform:\n",
    "            image = self.transform(image)\n",
    "\n",
    "        # get features\n",
    "        tab = row.drop(['tile_id', 'score']).values.astype('float32')\n",
    "        tab = torch.tensor(tab)    \n",
    "\n",
    "        return (image, tab), label\n"
   ]
  }
 ],
 "metadata": {
  "kernelspec": {
   "display_name": "venv",
   "language": "python",
   "name": "python3"
  },
  "language_info": {
   "codemirror_mode": {
    "name": "ipython",
    "version": 3
   },
   "file_extension": ".py",
   "mimetype": "text/x-python",
   "name": "python",
   "nbconvert_exporter": "python",
   "pygments_lexer": "ipython3",
   "version": "3.12.4"
  }
 },
 "nbformat": 4,
 "nbformat_minor": 5
}
